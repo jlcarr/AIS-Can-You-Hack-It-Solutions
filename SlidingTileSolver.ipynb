{
 "cells": [
  {
   "cell_type": "markdown",
   "id": "706803df",
   "metadata": {},
   "source": [
    "# Sliding Tile Solver\n",
    "We'll solve the 5x5 puzzle in 2 main steps:\n",
    "1. Using a breakdown of simple steps to get the first 3 rows complete.\n",
    "2. Using a general A* search algorithm to complete the last 2 rows."
   ]
  },
  {
   "cell_type": "markdown",
   "id": "18022a61",
   "metadata": {},
   "source": [
    "## Setup"
   ]
  },
  {
   "cell_type": "code",
   "execution_count": null,
   "id": "a122820a",
   "metadata": {},
   "outputs": [],
   "source": [
    "import numpy as np"
   ]
  },
  {
   "cell_type": "code",
   "execution_count": null,
   "id": "4a76f80e",
   "metadata": {},
   "outputs": [],
   "source": [
    "import heapq"
   ]
  },
  {
   "cell_type": "code",
   "execution_count": null,
   "id": "6903ba9e",
   "metadata": {},
   "outputs": [],
   "source": [
    "maze = [[12,8,2,15,5],[13,3,17,9,10],[1,4,11,14,23],[7,21,\"X\",20,24],[6,16,22,18,19]]  # Edit this\n",
    "maze = [[c if c != 'X' else 0 for c in row] for row in maze]\n",
    "maze = np.array(maze)\n",
    "maze"
   ]
  },
  {
   "cell_type": "markdown",
   "id": "bd6876b3",
   "metadata": {},
   "source": [
    "## Human/Manual Style Solving Steps"
   ]
  },
  {
   "cell_type": "code",
   "execution_count": null,
   "id": "8245c6e4",
   "metadata": {},
   "outputs": [],
   "source": [
    "movemap = [\n",
    "    [' ', 'U', ' '],\n",
    "    ['L', ' ', 'R'],\n",
    "    [' ', 'D', ' ']\n",
    "]\n",
    "invmovemap = {\n",
    "    'U': (-1,0),\n",
    "    'D': (1,0),\n",
    "    'L': (0,-1),\n",
    "    'R': (0,1),\n",
    "}"
   ]
  },
  {
   "cell_type": "code",
   "execution_count": null,
   "id": "a0d41310",
   "metadata": {},
   "outputs": [],
   "source": [
    "def pathfind(start,end,blockers):\n",
    "    if start == end:\n",
    "        return ''\n",
    "    q = [(*start,'')]\n",
    "    searched = set([start])\n",
    "    while q:\n",
    "        newq = []\n",
    "        for iX,jX,path in q:\n",
    "            for ip,jp in [(-1,0),(1,0),(0,-1),(0,1)]:\n",
    "                if (iX+ip,jX+jp) == end:\n",
    "                    return path+movemap[ip+1][jp+1]\n",
    "                if (0 <= iX+ip < 5) and (0 <= jX+jp < 5) \\\n",
    "                    and (iX+ip,jX+jp) not in blockers \\\n",
    "                    and (iX+ip,jX+jp) not in searched:\n",
    "                    newq.append((iX+ip,jX+jp,path+movemap[ip+1][jp+1]))\n",
    "                    searched.add((iX+ip,jX+jp))\n",
    "        q = newq\n",
    "        \n",
    "def movepiece(X, curr, target, fixed):\n",
    "    ppath = pathfind(curr, target, fixed)\n",
    "    moves = ''\n",
    "    for pmove in ppath:\n",
    "        pmove = invmovemap[pmove]\n",
    "        subtarget = (curr[0]+pmove[0], curr[1]+pmove[1])\n",
    "        moves += pathfind(X,subtarget, fixed | {curr})\n",
    "        moves += movemap[1-pmove[0]][1-pmove[1]]\n",
    "        X = curr\n",
    "        curr = subtarget\n",
    "    return moves, X\n",
    "          \n",
    "def applymoves(board, moves):\n",
    "    iX,jX = np.stack(np.where(board == 0)).ravel().tolist()\n",
    "    for move in moves:\n",
    "        ip,jp = invmovemap[move]\n",
    "        board[iX][jX] = board[iX+ip][jX+jp]\n",
    "        board[iX+ip][jX+jp] = 0\n",
    "        iX += ip\n",
    "        jX += jp\n",
    "    \n",
    "def easyrow(board, irow, fixed):\n",
    "    moves = ''\n",
    "    X = tuple(np.stack(np.where(board == 0)).ravel().tolist())\n",
    "    rowfixed = set()\n",
    "    # first place the first 5-1\n",
    "    for focus in range(1+5*irow, 1+4+5*irow):\n",
    "        curr = tuple(np.stack(np.where(board == focus)).ravel().tolist())\n",
    "        target = ((focus-1)//5, (focus-1)%5)\n",
    "        submoves,X = movepiece(X, curr, target, fixed | rowfixed)\n",
    "        applymoves(board, submoves)\n",
    "        moves += submoves\n",
    "        rowfixed.add(target)\n",
    "    # last one\n",
    "    focus = 5*(irow+1)\n",
    "    curr = tuple(np.stack(np.where(board == focus)).ravel().tolist())\n",
    "    if curr[0] == irow: #already done\n",
    "        rowfixed = set()\n",
    "        for ifocus in range(1,focus+1):\n",
    "            rowfixed.add(tuple(np.stack(np.where(board == ifocus)).ravel().tolist()))\n",
    "        fixed |= rowfixed\n",
    "        return moves\n",
    "    if X[0] == irow and X[1] == 5-1 and curr[0] == irow+1 and curr[1] == 5-1: #adjacent\n",
    "        applymoves(board, ['D'])\n",
    "        moves += 'D'\n",
    "        rowfixed = set()\n",
    "        for ifocus in range(1,focus+1):\n",
    "            rowfixed.add(tuple(np.stack(np.where(board == ifocus)).ravel().tolist()))\n",
    "        fixed |= rowfixed\n",
    "        return moves\n",
    "    if curr[0] > irow+1: # move it up\n",
    "        submoves,X = movepiece(X, curr, (irow+1, 2), fixed | rowfixed)\n",
    "        applymoves(board, submoves)\n",
    "        moves += submoves\n",
    "        # set X to corner\n",
    "        rowfixed.add((irow+1, 2))\n",
    "    submoves = pathfind(X,(irow,5-1),fixed | rowfixed)\n",
    "    applymoves(board, submoves)\n",
    "    moves += submoves\n",
    "    #cycle to ready\n",
    "    curr = tuple(np.stack(np.where(board == focus)).ravel().tolist())\n",
    "    currp = tuple(np.stack(np.where(board == focus-1)).ravel().tolist())\n",
    "    while curr[1] <= currp[1]:\n",
    "        submoves = 'D'+'L'*4+'U'+'R'*4\n",
    "        applymoves(board, submoves)\n",
    "        moves += submoves\n",
    "        curr = tuple(np.stack(np.where(board == focus)).ravel().tolist())\n",
    "        currp = tuple(np.stack(np.where(board == focus-1)).ravel().tolist())\n",
    "    # move to position\n",
    "    rowfixed = set()\n",
    "    for ifocus in range(1,focus):\n",
    "        rowfixed.add(tuple(np.stack(np.where(board == ifocus)).ravel().tolist()))\n",
    "    submoves,X = movepiece((irow,5-1), curr, (irow,currp[1]+1), fixed | rowfixed)\n",
    "    applymoves(board, submoves)\n",
    "    moves += submoves\n",
    "    rowfixed.add((irow,currp[1]+1))\n",
    "    # reset X\n",
    "    submoves = pathfind(X,(irow+1,5-1),fixed | rowfixed)\n",
    "    applymoves(board, submoves)\n",
    "    moves += submoves\n",
    "    # uncycle\n",
    "    curr = tuple(np.stack(np.where(board == focus)).ravel().tolist())\n",
    "    while curr[1] < 4:\n",
    "        submoves = 'U'+'L'*4+'D'+'R'*4\n",
    "        applymoves(board, submoves)\n",
    "        moves += submoves\n",
    "        curr = tuple(np.stack(np.where(board == focus)).ravel().tolist())\n",
    "    # update fixed\n",
    "    rowfixed = set()\n",
    "    for ifocus in range(1,focus+1):\n",
    "        rowfixed.add(tuple(np.stack(np.where(board == ifocus)).ravel().tolist()))\n",
    "    fixed |= rowfixed\n",
    "    return moves\n",
    "\n",
    "def easyfirstrows(board):\n",
    "    fixed = set()\n",
    "    moves = ''\n",
    "    for i in range(5-2):\n",
    "        moves += easyrow(board,i,fixed)\n",
    "    return moves"
   ]
  },
  {
   "cell_type": "code",
   "execution_count": null,
   "id": "fce162a1",
   "metadata": {},
   "outputs": [],
   "source": [
    "moves = easyfirstrows(maze.copy())\n",
    "print(len(moves))\n",
    "print(','.join(moves))"
   ]
  },
  {
   "cell_type": "code",
   "execution_count": null,
   "id": "0250ce50",
   "metadata": {},
   "outputs": [],
   "source": [
    "close_maze = maze.copy()\n",
    "applymoves(close_maze, moves)\n",
    "close_maze"
   ]
  },
  {
   "cell_type": "markdown",
   "id": "f6f33afc",
   "metadata": {},
   "source": [
    "## A* Algorithm"
   ]
  },
  {
   "cell_type": "code",
   "execution_count": null,
   "id": "bde2928c",
   "metadata": {},
   "outputs": [],
   "source": [
    "target = np.arange(5*5).reshape((5,5))+1\n",
    "target %= 5*5\n",
    "target"
   ]
  },
  {
   "cell_type": "code",
   "execution_count": null,
   "id": "05e27bfa",
   "metadata": {},
   "outputs": [],
   "source": [
    "targethash = hash(target.tobytes())"
   ]
  },
  {
   "cell_type": "code",
   "execution_count": null,
   "id": "2e98afde",
   "metadata": {},
   "outputs": [],
   "source": [
    "def dist(m):\n",
    "    mnorm = (m+24)%25\n",
    "    tnorm = (target+24)%25\n",
    "    drows = np.abs(mnorm//5-tnorm//5).sum()\n",
    "    dcols = np.abs(mnorm%5-tnorm%5).sum()\n",
    "    return drows + dcols"
   ]
  },
  {
   "cell_type": "code",
   "execution_count": null,
   "id": "8a686b2e",
   "metadata": {},
   "outputs": [],
   "source": [
    "print(close_maze)\n",
    "dist(close_maze)"
   ]
  },
  {
   "cell_type": "code",
   "execution_count": null,
   "id": "1f82da2a",
   "metadata": {},
   "outputs": [],
   "source": [
    "iX = np.where(close_maze == 0)[0][0]\n",
    "jX = np.where(close_maze == 0)[1][0]\n",
    "iX,jX"
   ]
  },
  {
   "cell_type": "code",
   "execution_count": null,
   "id": "82fe1e05",
   "metadata": {},
   "outputs": [],
   "source": [
    "step = 0\n",
    "q = [(dist(close_maze),0,step,iX,jX,'',close_maze)]\n",
    "searched = set([hash(close_maze.tobytes())])"
   ]
  },
  {
   "cell_type": "code",
   "execution_count": null,
   "id": "63914151",
   "metadata": {},
   "outputs": [],
   "source": [
    "final_result = ''\n",
    "while q and step < 4000000:\n",
    "    cost,prevd,_,iX,jX,path,curr = heapq.heappop(q)\n",
    "    for ip,jp in [(-1,0),(1,0),(0,-1),(0,1)]:\n",
    "        if (3 <= iX+ip < 5) and (0 <= jX+jp < 5):\n",
    "            curr[iX][jX] = curr[iX+ip][jX+jp]\n",
    "            curr[iX+ip][jX+jp] = 0\n",
    "            hashv = hash(curr.tobytes())\n",
    "            if hashv == targethash:\n",
    "                final_result = path + movemap[ip+1][jp+1]\n",
    "                q = []\n",
    "                break\n",
    "            if hashv not in searched:\n",
    "                step += 1\n",
    "                heapq.heappush(q, (prevd+1+dist(curr), prevd+1, step, iX+ip, jX+jp, path + movemap[ip+1][jp+1], curr.copy()))\n",
    "                searched.add(hashv)\n",
    "            curr[iX+ip][jX+jp] = curr[iX][jX]\n",
    "            curr[iX][jX] = 0\n",
    "print(final_result)"
   ]
  },
  {
   "cell_type": "markdown",
   "id": "20ff2d0c",
   "metadata": {},
   "source": [
    "## Final Result"
   ]
  },
  {
   "cell_type": "code",
   "execution_count": null,
   "id": "3fdb2010",
   "metadata": {},
   "outputs": [],
   "source": [
    "final_moves = moves+final_result\n",
    "print(len(final_moves))\n",
    "print(','.join(final_moves))"
   ]
  },
  {
   "cell_type": "code",
   "execution_count": null,
   "id": "80dfb19a",
   "metadata": {},
   "outputs": [],
   "source": [
    "final_board = maze.copy()\n",
    "applymoves(final_board, final_moves)\n",
    "final_board"
   ]
  },
  {
   "cell_type": "code",
   "execution_count": null,
   "id": "985a878c",
   "metadata": {},
   "outputs": [],
   "source": []
  }
 ],
 "metadata": {
  "kernelspec": {
   "display_name": "Python 3",
   "language": "python",
   "name": "python3"
  },
  "language_info": {
   "codemirror_mode": {
    "name": "ipython",
    "version": 3
   },
   "file_extension": ".py",
   "mimetype": "text/x-python",
   "name": "python",
   "nbconvert_exporter": "python",
   "pygments_lexer": "ipython3",
   "version": "3.11.6"
  }
 },
 "nbformat": 4,
 "nbformat_minor": 5
}
