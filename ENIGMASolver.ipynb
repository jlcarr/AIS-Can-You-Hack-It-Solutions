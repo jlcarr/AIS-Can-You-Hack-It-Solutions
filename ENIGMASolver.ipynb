{
 "cells": [
  {
   "cell_type": "markdown",
   "id": "5974f0e2",
   "metadata": {},
   "source": [
    "# ENIGMA"
   ]
  },
  {
   "cell_type": "markdown",
   "id": "676f7947",
   "metadata": {},
   "source": [
    "## The Enigma Machine"
   ]
  },
  {
   "cell_type": "markdown",
   "id": "b8c97fdf",
   "metadata": {},
   "source": [
    "### Rotor Definitions"
   ]
  },
  {
   "cell_type": "code",
   "execution_count": null,
   "id": "e189524c",
   "metadata": {},
   "outputs": [],
   "source": [
    "rotorDescriptions = { # ring, notch\n",
    "    'I': (\"EKMFLGDQVZNTOWYHXUSPAIBRCJ\", 'Q'),\n",
    "    'II': (\"AJDKSIRUXBLHWTMCQGZNPYFVOE\", 'E'),\n",
    "    'III': (\"BDFHJLCPRTXVZNYEIWGAKMUSQO\", 'V'),\n",
    "    'IV': (\"ESOVPZJAYQUIRHXLNFTGKDCMWB\", 'J'),\n",
    "    'V': (\"VZBRGITYUPSDNHLXAWMJQOFECK\", 'Z')}\n",
    "\n",
    "reflectorDescriptions = {\n",
    "    'UKW B': {'A':'Y','B':'R','C':'U','D':'H','E':'Q','F':'S','G':'L','I':'P','J':'X','K':'N','M':'O','T':'Z','V':'W'},\n",
    "    'UKW C': {'A':'F','B':'V','C':'P','D':'J','E':'I','G':'O','H':'Y','K':'R','L':'Z','M':'X','N':'W','Q':'T','S':'U'},\n",
    "}"
   ]
  },
  {
   "cell_type": "markdown",
   "id": "fc04f470",
   "metadata": {},
   "source": [
    "### Preprocessing"
   ]
  },
  {
   "cell_type": "code",
   "execution_count": null,
   "id": "b350ca30",
   "metadata": {},
   "outputs": [],
   "source": [
    "def num(c):\n",
    "    return ord(c)-ord('A')"
   ]
  },
  {
   "cell_type": "code",
   "execution_count": null,
   "id": "fa7a4e97",
   "metadata": {},
   "outputs": [],
   "source": [
    "rotorMaps = {\n",
    "    name: [num(c) for c in rotor]\n",
    "    for name,(rotor,notch) in rotorDescriptions.items()\n",
    "}\n",
    "\n",
    "rotorInvMaps = dict()\n",
    "for name, mapping in rotorMaps.items():\n",
    "    rotorInvMaps[name] = [0] * 26\n",
    "    for i,c in enumerate(mapping):\n",
    "        rotorInvMaps[name][c] = i\n",
    "\n",
    "rotorNotches = {\n",
    "    name: num(notch)\n",
    "    for name,(rotor,notch) in rotorDescriptions.items()\n",
    "}\n",
    "\n",
    "reflectorMaps = dict()\n",
    "for name,reflector in reflectorDescriptions.items():\n",
    "    reflectorMaps[name] = [0] * 26\n",
    "    for c1,c2 in reflector.items():\n",
    "        reflectorMaps[name][num(c1)] = num(c2)\n",
    "        reflectorMaps[name][num(c2)] = num(c1)"
   ]
  },
  {
   "cell_type": "markdown",
   "id": "09fa7c25",
   "metadata": {},
   "source": [
    "### Machine Function"
   ]
  },
  {
   "cell_type": "code",
   "execution_count": null,
   "id": "0749a007",
   "metadata": {},
   "outputs": [],
   "source": [
    "def EngigmaI(plaintext, wheelOrder, ringSettings, groundSettings, reflectorName, plugConnections):\n",
    "    # 1. Setup\n",
    "    # Setup rotors for ease of use\n",
    "    nRotors = len(wheelOrder)\n",
    "    notches = [rotorNotches[rotor] for rotor in wheelOrder]\n",
    "    rotors = [rotorMaps[rotor] for rotor in wheelOrder]\n",
    "    rotorsInv = [rotorInvMaps[rotor] for rotor in wheelOrder]\n",
    "    \n",
    "    reflector = reflectorMaps[reflectorName]\n",
    "\n",
    "    # Convert settings to numbers for the computer, also implement offsets\n",
    "    offsets = [num(c) for c in groundSettings]\n",
    "    offsetSettings = [num(c) for c in ringSettings]\n",
    "    \n",
    "    offsets = [(offset - offsetSetting + 26) % 26 for offset,offsetSetting in zip(offsets,offsetSettings)]\n",
    "    notches = [(notch - offsetSetting + 26) % 26 for notch,offsetSetting in zip(notches,offsetSettings)]\n",
    "    \n",
    "    # Create the plugboard map\n",
    "    plugboard = list(range(26))\n",
    "    for pair in plugConnections.upper().split(' '):\n",
    "        plugboard[num(pair[0])] = num(pair[1])\n",
    "        plugboard[num(pair[1])] = num(pair[0])\n",
    "\n",
    "    # 2. Perform encryption\n",
    "    ciphertext = ''\n",
    "    plaintext = plaintext.upper()  \n",
    "    for letter in plaintext:\n",
    "        encryptedLetter = num(letter) \n",
    "        if not (0 <= encryptedLetter < 26):\n",
    "            continue \n",
    "        \n",
    "        # Rotate rotors\n",
    "        notchActivated = [offsets[iRotor] == notches[iRotor] and iRotor != 0 for iRotor in range(nRotors)]\n",
    "        for iRotor in range(nRotors-1):\n",
    "            if notchActivated[iRotor] or notchActivated[iRotor+1]:\n",
    "                offsets[iRotor] = (offsets[iRotor] + 1) % 26\n",
    "        offsets[-1] = (offsets[-1] + 1) % 26\n",
    "\n",
    "        # Begin circuit forward\n",
    "        encryptedLetter = plugboard[encryptedLetter % 26]\n",
    "        for rotor,offset in reversed(list(zip(rotors,offsets))):\n",
    "            encryptedLetter = rotor[(encryptedLetter + offset) % 26] - offset + 26\n",
    "\n",
    "        encryptedLetter = reflector[encryptedLetter % 26]\n",
    "        \n",
    "        # Return backwards\n",
    "        for rotorInv,offset in zip(rotorsInv,offsets):    \n",
    "            encryptedLetter = rotorInv[(encryptedLetter + offset) % 26] - offset + 26\n",
    "        encryptedLetter = plugboard[encryptedLetter % 26]\n",
    "\n",
    "        # Done\n",
    "        ciphertext += chr(encryptedLetter + ord('A'))\n",
    "  \n",
    "    return ciphertext"
   ]
  },
  {
   "cell_type": "markdown",
   "id": "59dea7b9",
   "metadata": {},
   "source": [
    "## Cracking"
   ]
  },
  {
   "cell_type": "markdown",
   "id": "6bf835eb",
   "metadata": {},
   "source": [
    "We'll want to check our solution candidates for containing english words, so let's get a wordlist."
   ]
  },
  {
   "cell_type": "code",
   "execution_count": null,
   "id": "aaee1f1a",
   "metadata": {},
   "outputs": [],
   "source": [
    "import requests\n",
    "r = requests.get(\"https://www.mit.edu/~ecprice/wordlist.10000\")\n",
    "#r = requests.get('https://raw.githubusercontent.com/first20hours/google-10000-english/master/google-10000-english.txt')\n",
    "wordlist = r.text.splitlines()"
   ]
  },
  {
   "cell_type": "markdown",
   "id": "59ca671a",
   "metadata": {},
   "source": [
    "### Trie Scoring"
   ]
  },
  {
   "cell_type": "markdown",
   "id": "27fc578c",
   "metadata": {},
   "source": [
    "The enigma machine only encrypts letters: no punctuation including spaces. So we can't split words and check each to see if they've been mapped to a real words.\n",
    "Instead we can use a trie to run through the the decrypted candidate and check for words efficiently.\n",
    "\n",
    "Now the problem is there are many very short words, so a solution with many \"I\"s would score highly, even if the rest was garbage. After some experiementation I found a good solution to was to look for the longest work in the decrypted text. Thus we can make our trie keep track of the length of each word in it, and write our scoring function accordinly to return the length of the longest word found."
   ]
  },
  {
   "cell_type": "code",
   "execution_count": null,
   "id": "d6225399",
   "metadata": {},
   "outputs": [],
   "source": [
    "trie = dict()\n",
    "for word in wordlist:\n",
    "    curr = trie\n",
    "    for c in word.upper():\n",
    "        if c not in curr:\n",
    "            curr[c] = dict()\n",
    "        curr = curr[c]\n",
    "    if 'END' not in curr:\n",
    "        curr['END'] = len(word)"
   ]
  },
  {
   "cell_type": "code",
   "execution_count": null,
   "id": "3d3b270b",
   "metadata": {},
   "outputs": [],
   "source": [
    "def trieMaxScore(text, trie):\n",
    "    scores = [0]*(1+len(text))\n",
    "    for i in range(len(text)):\n",
    "        curr = trie\n",
    "        j = i\n",
    "        while j < len(text) and text[j] in curr:\n",
    "            curr = curr[text[j]]\n",
    "            j += 1\n",
    "            if 'END' in curr:\n",
    "                scores[j] = max(scores[j], curr['END'])\n",
    "        scores[i+1] = max(scores[i+1], scores[i])\n",
    "    return scores[-1]"
   ]
  },
  {
   "cell_type": "markdown",
   "id": "03cb3aff",
   "metadata": {},
   "source": [
    "### Our Inputs"
   ]
  },
  {
   "cell_type": "code",
   "execution_count": null,
   "id": "c3f8eef6",
   "metadata": {},
   "outputs": [],
   "source": [
    "import itertools"
   ]
  },
  {
   "cell_type": "markdown",
   "id": "55b82243",
   "metadata": {},
   "source": [
    "Besides the ciphertext, we're given the plugboard connections, the reflector, and hints on the ring settings and ground settings.\n",
    "\n",
    "In principle this just leaves the 3 of 5 rotors for us to brute force. However the hints I got for the ring and ground settings were dates (both Alan Turing's birthday) so there are multiple date formats to iterate over as well. It's also unclear with hint refers to the ground and ring settings, so that's another place to iterate over.\n",
    "\n",
    "I did also see some of the other online simulators had different definitions of the orders of ringsettings and ground settings (reversed)."
   ]
  },
  {
   "cell_type": "code",
   "execution_count": null,
   "id": "7259a5e7",
   "metadata": {},
   "outputs": [],
   "source": [
    "ciphertext = \"YQGGO YFLBR PSWKW JOBFW QRAWY HTLVL DXXMD TSMTJ W\"\n",
    "plugConnections = \"IL RQ GE OB KD JF ZW\"\n",
    "reflectorName = \"UKW B\"\n",
    "\n",
    "hint1s = [(23,6,12),(6,23,12)]\n",
    "hint2s = [(23,6,12),(6,23,12)]\n",
    "\n",
    "# dates forwards or backwards (also order of rings?)\n",
    "hint1s = hint1s + [tuple(reversed(hint)) for hint in hint1s]\n",
    "hint2s = hint2s + [tuple(reversed(hint)) for hint in hint2s]\n",
    "\n",
    "# hints = list(itertools.product(hint1s, hint2s))\n",
    "hints = list(zip(hint1s,hint2s)) # zip because they are both dates, so their format must match\n",
    "\n",
    "# hints = hints + [tuple(reversed(hintpair)) for hintpair in hints] # for ring settings vs ground settings"
   ]
  },
  {
   "cell_type": "markdown",
   "id": "e0d7a358",
   "metadata": {},
   "source": [
    "From this we can compute the number of options we have to test. In this case it's very very small."
   ]
  },
  {
   "cell_type": "code",
   "execution_count": null,
   "id": "86031bb8",
   "metadata": {},
   "outputs": [],
   "source": [
    "import math\n",
    "print(len(hints) * math.perm(5,3))"
   ]
  },
  {
   "cell_type": "markdown",
   "id": "da194813",
   "metadata": {},
   "source": [
    "### Performing the Crack"
   ]
  },
  {
   "cell_type": "code",
   "execution_count": null,
   "id": "aa349a85",
   "metadata": {},
   "outputs": [],
   "source": [
    "scoreMax = 0\n",
    "groundSettingsMax = ''\n",
    "ringSettingsMax = ''\n",
    "decryptedMax = ''\n",
    "wheelOrderMax = []\n",
    "\n",
    "for hint1,hint2 in hints:\n",
    "    ringSettings = [chr((i-1 +26)%26 + ord('A')) for i in hint1]\n",
    "    groundSettings = [chr((i-1 +26)%26 + ord('A')) for i in hint2]\n",
    "    for wheelOrder in itertools.permutations(rotorDescriptions.keys(), 3):\n",
    "        decrypted = EngigmaI(ciphertext, wheelOrder, ringSettings, groundSettings, reflectorName, plugConnections)\n",
    "        score = trieMaxScore(decrypted, trie)\n",
    "        if score > scoreMax:\n",
    "            scoreMax = score\n",
    "            groundSettingsMax = groundSettings\n",
    "            ringSettingsMax = ringSettings\n",
    "            decryptedMax = decrypted\n",
    "            wheelOrderMax = wheelOrder\n",
    "\n",
    "print(\"Decrypted message:\", decryptedMax)"
   ]
  },
  {
   "cell_type": "code",
   "execution_count": null,
   "id": "ba7facfc",
   "metadata": {},
   "outputs": [],
   "source": [
    "print(\"Score of decrypted:\", scoreMax)\n",
    "print(\"Wheel order:\", wheelOrderMax)\n",
    "print(\"Ground settings:\", groundSettingsMax, list(map(lambda c: num(c)+1,groundSettingsMax)))\n",
    "print(\"Ring settings:\", ringSettingsMax, list(map(lambda c: num(c)+1,ringSettingsMax)))"
   ]
  },
  {
   "cell_type": "code",
   "execution_count": null,
   "id": "2336f719",
   "metadata": {},
   "outputs": [],
   "source": []
  }
 ],
 "metadata": {
  "kernelspec": {
   "display_name": "Python 3",
   "language": "python",
   "name": "python3"
  },
  "language_info": {
   "codemirror_mode": {
    "name": "ipython",
    "version": 3
   },
   "file_extension": ".py",
   "mimetype": "text/x-python",
   "name": "python",
   "nbconvert_exporter": "python",
   "pygments_lexer": "ipython3",
   "version": "3.11.7"
  }
 },
 "nbformat": 4,
 "nbformat_minor": 5
}
