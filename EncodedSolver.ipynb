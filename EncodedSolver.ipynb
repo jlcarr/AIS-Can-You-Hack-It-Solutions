{
 "cells": [
  {
   "cell_type": "markdown",
   "id": "e5fba591",
   "metadata": {},
   "source": [
    "# Encoded"
   ]
  },
  {
   "cell_type": "code",
   "execution_count": null,
   "id": "98ca184c",
   "metadata": {},
   "outputs": [],
   "source": [
    "cipher_text = \"504b0304140000000800e17923582a0622458f0000009c00000008000000666c61672e74787405c1dd0e82201800d007ea42c1ece7f2a3d029a62340d43bb48d34496ad5e6db770e9ffd52c98468d1495d079b466500326f8102702016ce0087536acc4922419c7beaa3cc97d6aedd85676e889a6ad9eeed2da253a794199dd0c6b85979aa1fe1d5f492af292a5f2cc398094b433da5a34c4a81bcaf5b29a82dc8bbc738ee75fc11a82abe820d8cda5fb0eeeef007504b01021403140000000800e17923582a0622458f0000009c000000080000000000000000000000800100000000666c61672e747874504b0506000000000100010036000000b50000000000\""
   ]
  },
  {
   "cell_type": "code",
   "execution_count": null,
   "id": "2086d56d",
   "metadata": {},
   "outputs": [],
   "source": [
    "hex_data = bytearray.fromhex(cipher_text)\n",
    "hex_data"
   ]
  },
  {
   "cell_type": "code",
   "execution_count": null,
   "id": "dcc34937",
   "metadata": {},
   "outputs": [],
   "source": [
    "import zipfile\n",
    "import io\n",
    "\n",
    "zip_data = zipfile.ZipFile(io.BytesIO(hex_data), 'r')\n",
    "print(zip_data.namelist())\n",
    "\n",
    "with zip_data.open(zip_data.namelist()[0], mode='r') as f:\n",
    "    txt_data = f.read().decode()\n",
    "txt_data"
   ]
  },
  {
   "cell_type": "code",
   "execution_count": null,
   "id": "0c506e08",
   "metadata": {},
   "outputs": [],
   "source": [
    "import base64\n",
    "b64_data = base64.b64decode(txt_data)\n",
    "b64_data"
   ]
  },
  {
   "cell_type": "code",
   "execution_count": null,
   "id": "e07566ca",
   "metadata": {},
   "outputs": [],
   "source": [
    "import bz2\n",
    "bz2_data = bz2.decompress(b64_data).decode()\n",
    "bz2_data"
   ]
  },
  {
   "cell_type": "code",
   "execution_count": null,
   "id": "598f45c2",
   "metadata": {},
   "outputs": [],
   "source": [
    "bytes_data = bytes([int(c,2) for c in bz2_data.split()])\n",
    "bytes_data"
   ]
  },
  {
   "cell_type": "code",
   "execution_count": null,
   "id": "b50ac4fc",
   "metadata": {},
   "outputs": [],
   "source": [
    "flag_data = bytearray.fromhex(bytes_data.decode()).decode()\n",
    "flag_data"
   ]
  },
  {
   "cell_type": "code",
   "execution_count": null,
   "id": "ab8533fa",
   "metadata": {},
   "outputs": [],
   "source": []
  }
 ],
 "metadata": {
  "kernelspec": {
   "display_name": "Python 3",
   "language": "python",
   "name": "python3"
  },
  "language_info": {
   "codemirror_mode": {
    "name": "ipython",
    "version": 3
   },
   "file_extension": ".py",
   "mimetype": "text/x-python",
   "name": "python",
   "nbconvert_exporter": "python",
   "pygments_lexer": "ipython3",
   "version": "3.11.7"
  }
 },
 "nbformat": 4,
 "nbformat_minor": 5
}
