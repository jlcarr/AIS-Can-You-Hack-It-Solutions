{
 "cells": [
  {
   "cell_type": "code",
   "execution_count": null,
   "id": "045be5e5",
   "metadata": {},
   "outputs": [],
   "source": [
    "import scipy.io.wavfile\n",
    "import scipy.signal"
   ]
  },
  {
   "cell_type": "code",
   "execution_count": null,
   "id": "94a7d4fd",
   "metadata": {},
   "outputs": [],
   "source": [
    "rate, data = scipy.io.wavfile.read('flagged-waveform')"
   ]
  },
  {
   "cell_type": "code",
   "execution_count": null,
   "id": "e5a26f9c",
   "metadata": {},
   "outputs": [],
   "source": [
    "f, t, Sxx = scipy.signal.spectrogram(data, fs=rate, nperseg=rate, noverlap=0)"
   ]
  },
  {
   "cell_type": "code",
   "execution_count": null,
   "id": "3f438063",
   "metadata": {},
   "outputs": [],
   "source": [
    "freqs = Sxx.argmax(axis=0)"
   ]
  },
  {
   "cell_type": "code",
   "execution_count": null,
   "id": "a7053e99",
   "metadata": {},
   "outputs": [],
   "source": [
    "import matplotlib.pyplot as plt\n",
    "\n",
    "plt.pcolormesh(t, f, Sxx)\n",
    "\n",
    "plt.ylim([freqs.min()-1, freqs.max()+1])\n",
    "\n",
    "plt.ylabel('Frequency [Hz]')\n",
    "plt.xlabel('Time [sec]')\n",
    "\n",
    "plt.show()"
   ]
  },
  {
   "cell_type": "code",
   "execution_count": null,
   "id": "9e7f63d7",
   "metadata": {},
   "outputs": [],
   "source": [
    "message = ''.join(map(chr,freqs))\n",
    "print(message)"
   ]
  },
  {
   "cell_type": "code",
   "execution_count": null,
   "id": "4c13f7f6",
   "metadata": {},
   "outputs": [],
   "source": []
  }
 ],
 "metadata": {
  "kernelspec": {
   "display_name": "Python 3",
   "language": "python",
   "name": "python3"
  },
  "language_info": {
   "codemirror_mode": {
    "name": "ipython",
    "version": 3
   },
   "file_extension": ".py",
   "mimetype": "text/x-python",
   "name": "python",
   "nbconvert_exporter": "python",
   "pygments_lexer": "ipython3",
   "version": "3.11.7"
  }
 },
 "nbformat": 4,
 "nbformat_minor": 5
}
