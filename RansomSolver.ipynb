{
 "cells": [
  {
   "cell_type": "markdown",
   "id": "8096f272",
   "metadata": {},
   "source": [
    "# Ransom"
   ]
  },
  {
   "cell_type": "code",
   "execution_count": null,
   "id": "1a1ce222",
   "metadata": {},
   "outputs": [],
   "source": [
    "with open('important_company_data_backup.zip.ransomed', 'rb') as f:\n",
    "    data = f.read()"
   ]
  },
  {
   "cell_type": "code",
   "execution_count": null,
   "id": "dcdfe785",
   "metadata": {},
   "outputs": [],
   "source": [
    "bmax = 2**8\n",
    "mapping = [-1]*bmax\n",
    "for c in range(bmax):\n",
    "    if c < 127:\n",
    "        mapping[(c + 129)%bmax] = c\n",
    "    elif c < 129:\n",
    "        mapping[c] = c\n",
    "    else:\n",
    "        mapping[(c + 127)%bmax] = c\n",
    "print(mapping)"
   ]
  },
  {
   "cell_type": "code",
   "execution_count": null,
   "id": "459f458a",
   "metadata": {},
   "outputs": [],
   "source": [
    "decrypted_data = bytes([mapping[c] for c in data[::-1]])\n",
    "decrypted_data"
   ]
  },
  {
   "cell_type": "code",
   "execution_count": null,
   "id": "f612ad84",
   "metadata": {},
   "outputs": [],
   "source": [
    "import zipfile\n",
    "import io\n",
    "\n",
    "zip_data = zipfile.ZipFile(io.BytesIO(decrypted_data), 'r')\n",
    "for name in zip_data.namelist():\n",
    "    print(f\"Contents of {name}\")\n",
    "    with zip_data.open(name, mode='r') as f:\n",
    "        print(f.read().decode())"
   ]
  },
  {
   "cell_type": "code",
   "execution_count": null,
   "id": "38a94d02",
   "metadata": {},
   "outputs": [],
   "source": []
  }
 ],
 "metadata": {
  "kernelspec": {
   "display_name": "Python 3",
   "language": "python",
   "name": "python3"
  },
  "language_info": {
   "codemirror_mode": {
    "name": "ipython",
    "version": 3
   },
   "file_extension": ".py",
   "mimetype": "text/x-python",
   "name": "python",
   "nbconvert_exporter": "python",
   "pygments_lexer": "ipython3",
   "version": "3.11.7"
  }
 },
 "nbformat": 4,
 "nbformat_minor": 5
}
