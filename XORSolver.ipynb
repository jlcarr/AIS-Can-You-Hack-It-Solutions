{
 "cells": [
  {
   "cell_type": "markdown",
   "id": "d30e5ca2",
   "metadata": {},
   "source": [
    "# XOR"
   ]
  },
  {
   "cell_type": "code",
   "execution_count": null,
   "id": "cea389d6",
   "metadata": {},
   "outputs": [],
   "source": [
    "ciphertext = \"205c04451a31015642581e701f5a09544d351d47105e1d2949132b454d39001306580b361a50175d1970075c42561f3100434e111a351a540a424d3e1c470a5803375f13035f09701c5107481e70075b07113e35105c0c554d1c1244425e0b70275b0743003f174a0c50003910405911047e161d4e11042453520e460c2900130b5f0e22165211541e7e\""
   ]
  },
  {
   "cell_type": "code",
   "execution_count": null,
   "id": "8955d010",
   "metadata": {},
   "outputs": [],
   "source": [
    "key_len = 6"
   ]
  },
  {
   "cell_type": "code",
   "execution_count": null,
   "id": "0f431535",
   "metadata": {},
   "outputs": [],
   "source": [
    "hex_data = bytearray.fromhex(ciphertext)\n",
    "hex_data"
   ]
  },
  {
   "cell_type": "code",
   "execution_count": null,
   "id": "1d726457",
   "metadata": {},
   "outputs": [],
   "source": [
    "n = len(hex_data)\n",
    "n"
   ]
  },
  {
   "cell_type": "code",
   "execution_count": null,
   "id": "2cec143b",
   "metadata": {},
   "outputs": [],
   "source": [
    "bin(int(hex_data.hex(),16))"
   ]
  },
  {
   "cell_type": "code",
   "execution_count": null,
   "id": "320a5d8b",
   "metadata": {},
   "outputs": [],
   "source": [
    "print(\"Number of 6 character alphanumeric passwords:\", (10+26+26)**key_len)  # Not feasible"
   ]
  },
  {
   "cell_type": "code",
   "execution_count": null,
   "id": "590d6732",
   "metadata": {},
   "outputs": [],
   "source": [
    "import requests\n",
    "r = requests.get('https://raw.githubusercontent.com/first20hours/google-10000-english/master/google-10000-english.txt')\n",
    "wordlist = r.text.splitlines()\n",
    "wordset = set(wordlist)"
   ]
  },
  {
   "cell_type": "code",
   "execution_count": null,
   "id": "af3d66c2",
   "metadata": {},
   "outputs": [],
   "source": [
    "key_reps = n//6"
   ]
  },
  {
   "cell_type": "code",
   "execution_count": null,
   "id": "1ccbee8c",
   "metadata": {},
   "outputs": [],
   "source": [
    "key = ''\n",
    "plaintext = ''\n",
    "matches = 0\n",
    "used_word = ''\n",
    "used_freq = 0\n",
    "for freq,word in enumerate(wordlist):\n",
    "    if len(word) >= key_len-2: # use only words, whom with their spaces, will cover the key\n",
    "        #print(word)\n",
    "        xor = f\" {word} \"[:key_len].encode() # use only what's needed to cover the key\n",
    "        for i in range(n-key_len): # check anywhere in the plaintext\n",
    "            candidate_key = bytes([k^c for k,c in zip(xor, hex_data[i:i+key_len])])\n",
    "            candidate_key = candidate_key[key_len-i%key_len:] + candidate_key[:key_len-i%key_len]\n",
    "            \n",
    "            candidate_plaintext = bytes([k^c for k,c in zip(candidate_key*key_reps, hex_data)]).decode()\n",
    "            candidate_matches = len(set(candidate_plaintext.lower().split(' ')) & wordset)\n",
    "            \n",
    "            if candidate_matches > matches:\n",
    "                matches = candidate_matches\n",
    "                used_word = word\n",
    "                used_freq = freq\n",
    "                plaintext = candidate_plaintext\n",
    "                key = candidate_key\n",
    "\n",
    "print(f\"used word: {used_word}, freq position: {used_freq}/{len(wordlist)}, word matches: {matches}\")\n",
    "print(\"plaintext:\", plaintext)\n",
    "print(\"key:\", key)"
   ]
  },
  {
   "cell_type": "code",
   "execution_count": null,
   "id": "b0e5acd9",
   "metadata": {},
   "outputs": [],
   "source": []
  }
 ],
 "metadata": {
  "kernelspec": {
   "display_name": "Python 3",
   "language": "python",
   "name": "python3"
  },
  "language_info": {
   "codemirror_mode": {
    "name": "ipython",
    "version": 3
   },
   "file_extension": ".py",
   "mimetype": "text/x-python",
   "name": "python",
   "nbconvert_exporter": "python",
   "pygments_lexer": "ipython3",
   "version": "3.11.7"
  }
 },
 "nbformat": 4,
 "nbformat_minor": 5
}
