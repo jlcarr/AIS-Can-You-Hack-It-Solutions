{
 "cells": [
  {
   "cell_type": "markdown",
   "id": "5974f0e2",
   "metadata": {},
   "source": [
    "# Skip Cipher"
   ]
  },
  {
   "cell_type": "code",
   "execution_count": null,
   "id": "f4f88119",
   "metadata": {},
   "outputs": [],
   "source": [
    "cipher_text = \"Irntfsnie  dp aav sgr  en toeedyleh.easosdkhndnesw a\"\n",
    "n = len(cipher_text)\n",
    "n"
   ]
  },
  {
   "cell_type": "code",
   "execution_count": null,
   "id": "aaee1f1a",
   "metadata": {},
   "outputs": [],
   "source": [
    "import requests\n",
    "r = requests.get(\"https://www.mit.edu/~ecprice/wordlist.10000\")\n",
    "#r = requests.get('https://raw.githubusercontent.com/first20hours/google-10000-english/master/google-10000-english.txt')\n",
    "wordlist = set(r.text.splitlines())"
   ]
  },
  {
   "cell_type": "code",
   "execution_count": null,
   "id": "7f0b9d8a",
   "metadata": {},
   "outputs": [],
   "source": [
    "plain_text = ''\n",
    "wordcount = 0\n",
    "solution_stride = 0\n",
    "for stride in range(n):\n",
    "    decoded = ''.join(cipher_text[(stride*i)%n] for i in range(n))\n",
    "    decoded_wordcount = sum(w in wordlist for w in decoded.split(' '))\n",
    "    if decoded_wordcount > wordcount:\n",
    "        wordcount = decoded_wordcount\n",
    "        solution_stride = stride\n",
    "        plain_text = decoded"
   ]
  },
  {
   "cell_type": "code",
   "execution_count": null,
   "id": "6632325c",
   "metadata": {},
   "outputs": [],
   "source": [
    "print('stride:', solution_stride)\n",
    "plain_text"
   ]
  }
 ],
 "metadata": {
  "kernelspec": {
   "display_name": "Python 3",
   "language": "python",
   "name": "python3"
  },
  "language_info": {
   "codemirror_mode": {
    "name": "ipython",
    "version": 3
   },
   "file_extension": ".py",
   "mimetype": "text/x-python",
   "name": "python",
   "nbconvert_exporter": "python",
   "pygments_lexer": "ipython3",
   "version": "3.11.7"
  }
 },
 "nbformat": 4,
 "nbformat_minor": 5
}
